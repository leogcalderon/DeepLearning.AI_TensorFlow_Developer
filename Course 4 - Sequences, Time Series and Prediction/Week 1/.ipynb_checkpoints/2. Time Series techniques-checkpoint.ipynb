{
 "cells": [
  {
   "cell_type": "markdown",
   "metadata": {},
   "source": [
    "# 1. Train, validation and test sets\n",
    "Taking the last value and assyume that the next value will be the same. This it is call *Naive Forecasting* and will give us a baseline model.\n",
    "\n",
    "\n",
    "## 1.1. Fixed partitioning\n",
    "- If the data has some seasonality we have to ensure that each period contains a whole number o seasons.\n",
    "- Once you experiment with the right arrchitecture for training with the validation period, you will train the entire model with train+vali to test it on test period.\n",
    "- Then, you will use train+valid+test data to train the model.\n",
    "\n",
    "![fixed](data/split.png)\n",
    "\n",
    "## 1.2. Roll-forward partitioning\n",
    "- Start with a short training period, and we gradually increase it.\n",
    "- We train the model with one more day/week/month and we use it to forecast the following day/week/month.\n",
    "\n",
    "![roll](data/roll.png)\n",
    "\n",
    "# 2. Metrics for evaluating performance\n",
    "\n",
    "![metrics](data/metrics.png)\n",
    "\n",
    "*If your application demands penalizing large errors, use MSE/RMSE*\n",
    "\n",
    "# 3. Moving average and differencing\n",
    "- The yellow line is a plot of the average of the blue values over a fixed period called an averaging window,for example, 30 days.\n",
    "\n",
    "![ma](data/ma.png)\n",
    "\n",
    "- Eliminatesa lot of the noise and it gives us a curve roughly emulating the original series,but it does not anticipate trend or seasonality.\n",
    "\n",
    "- We can solve this making the moving average on differenced time series.\n",
    "- Instead of studying the time series itself, we study the difference between the value at time T and the value at an earlier period.\n",
    "- The differenced time series has no trend and no seasonality.\n",
    "- Then you can use the moving average to forecast and then sum the differencing to restore the trend and seasonality. \n",
    "\n",
    "![diff](data/diff.png)"
   ]
  }
 ],
 "metadata": {
  "kernelspec": {
   "display_name": "Python 3",
   "language": "python",
   "name": "python3"
  },
  "language_info": {
   "codemirror_mode": {
    "name": "ipython",
    "version": 3
   },
   "file_extension": ".py",
   "mimetype": "text/x-python",
   "name": "python",
   "nbconvert_exporter": "python",
   "pygments_lexer": "ipython3",
   "version": "3.7.6"
  }
 },
 "nbformat": 4,
 "nbformat_minor": 4
}
