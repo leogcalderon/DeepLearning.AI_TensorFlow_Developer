{
 "cells": [
  {
   "cell_type": "code",
   "execution_count": 582,
   "metadata": {},
   "outputs": [],
   "source": [
    "\n",
    "import os\n",
    "import matplotlib.pyplot as plt\n",
    "import csv\n",
    "from collections import Counter\n",
    "\n",
    "path = os.path.join('Data', 'arbolado-en-espacios-verdes.csv')\n"
   ]
  },
  {
   "cell_type": "code",
   "execution_count": 585,
   "metadata": {},
   "outputs": [
    {
     "ename": "NameError",
     "evalue": "name 'nombre_archivo' is not defined",
     "output_type": "error",
     "traceback": [
      "\u001b[0;31m---------------------------------------------------------------------------\u001b[0m",
      "\u001b[0;31mNameError\u001b[0m                                 Traceback (most recent call last)",
      "\u001b[0;32m<ipython-input-585-d4e4748b0897>\u001b[0m in \u001b[0;36m<module>\u001b[0;34m\u001b[0m\n\u001b[1;32m     20\u001b[0m             \u001b[0mlista\u001b[0m\u001b[0;34m.\u001b[0m\u001b[0mappend\u001b[0m\u001b[0;34m(\u001b[0m\u001b[0marbol\u001b[0m\u001b[0;34m)\u001b[0m\u001b[0;34m\u001b[0m\u001b[0;34m\u001b[0m\u001b[0m\n\u001b[1;32m     21\u001b[0m \u001b[0;34m\u001b[0m\u001b[0m\n\u001b[0;32m---> 22\u001b[0;31m \u001b[0marboleda\u001b[0m \u001b[0;34m=\u001b[0m \u001b[0mleer_arboles\u001b[0m\u001b[0;34m(\u001b[0m\u001b[0mnombre_archivo\u001b[0m\u001b[0;34m,\u001b[0m\u001b[0mespecie\u001b[0m\u001b[0;34m)\u001b[0m\u001b[0;34m\u001b[0m\u001b[0;34m\u001b[0m\u001b[0m\n\u001b[0m",
      "\u001b[0;31mNameError\u001b[0m: name 'nombre_archivo' is not defined"
     ]
    }
   ],
   "source": [
    "def leer_arboles(nombre_archivo,especie):\n",
    "    '''Lectura de archivo'''\n",
    "    lista = []\n",
    "    file = open(nombre_archivo,'rt')\n",
    "    rows = csv.reader(file)\n",
    "    headers = next(rows)\n",
    "    \n",
    "    for row in rows:\n",
    "        '''Si la fila pertenece al parque, adjunto fila'''\n",
    "        if row[7].lower() == especie.lower():\n",
    "            arbol = {}\n",
    "            '''Verifico type'''\n",
    "            for columna, nombre in zip(row,headers):\n",
    "                if nombre in ['long','lat','coord_x','coord_y']:\n",
    "                    arbol[nombre] = float(columna)\n",
    "                elif nombre in ['id_arbol','altura_tot','diametro','inclinacio','id_especie']:\n",
    "                    arbol[nombre] = int(columna)\n",
    "                else:\n",
    "                    arbol[nombre] = columna\n",
    "            lista.append(arbol)\n",
    "\n",
    "arboleda = leer_arboles(nombre_archivo,especie)"
   ]
  },
  {
   "cell_type": "code",
   "execution_count": null,
   "metadata": {},
   "outputs": [],
   "source": []
  }
 ],
 "metadata": {
  "kernelspec": {
   "display_name": "Python 3",
   "language": "python",
   "name": "python3"
  },
  "language_info": {
   "codemirror_mode": {
    "name": "ipython",
    "version": 3
   },
   "file_extension": ".py",
   "mimetype": "text/x-python",
   "name": "python",
   "nbconvert_exporter": "python",
   "pygments_lexer": "ipython3",
   "version": "3.7.6"
  }
 },
 "nbformat": 4,
 "nbformat_minor": 4
}
