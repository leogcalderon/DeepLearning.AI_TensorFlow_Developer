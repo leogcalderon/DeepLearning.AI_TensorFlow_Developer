{
  "nbformat": 4,
  "nbformat_minor": 0,
  "metadata": {
    "accelerator": "GPU",
    "colab": {
      "name": "Course 3 - Week 2 - Lesson 2.ipynb",
      "provenance": [],
      "collapsed_sections": [],
      "toc_visible": true
    },
    "kernelspec": {
      "display_name": "Python 3",
      "name": "python3"
    }
  },
  "cells": [
    {
      "cell_type": "code",
      "metadata": {
        "colab_type": "code",
        "id": "XYYDvoskkE61",
        "colab": {}
      },
      "source": [
        "import json\n",
        "import tensorflow as tf\n",
        "import matplotlib.pyplot as plt\n",
        "import io\n",
        "import numpy as np\n",
        "\n",
        "from tensorflow.keras.preprocessing.text import Tokenizer\n",
        "from tensorflow.keras.preprocessing.sequence import pad_sequences"
      ],
      "execution_count": 2,
      "outputs": []
    },
    {
      "cell_type": "markdown",
      "metadata": {
        "id": "SfDLF5E5RtDO",
        "colab_type": "text"
      },
      "source": [
        "### Define parameters"
      ]
    },
    {
      "cell_type": "code",
      "metadata": {
        "colab_type": "code",
        "id": "0eJSTTYnkJQd",
        "colab": {}
      },
      "source": [
        "vocab_size = 10000\n",
        "embedding_dim = 16\n",
        "max_length = 100\n",
        "trunc_type='post'\n",
        "padding_type='post'\n",
        "oov_tok = \"<OOV>\"\n",
        "training_size = 20000"
      ],
      "execution_count": 3,
      "outputs": []
    },
    {
      "cell_type": "markdown",
      "metadata": {
        "id": "d2mtsVjIRvSy",
        "colab_type": "text"
      },
      "source": [
        "### Download the dataset"
      ]
    },
    {
      "cell_type": "code",
      "metadata": {
        "colab_type": "code",
        "id": "BQVuQrZNkPn9",
        "colab": {
          "base_uri": "https://localhost:8080/",
          "height": 208
        },
        "outputId": "94b45c9c-01b2-4a08-8c53-5a730c9d72da"
      },
      "source": [
        "!wget --no-check-certificate \\\n",
        "    https://storage.googleapis.com/laurencemoroney-blog.appspot.com/sarcasm.json \\\n",
        "    -O /tmp/sarcasm.json\n"
      ],
      "execution_count": 4,
      "outputs": [
        {
          "output_type": "stream",
          "text": [
            "--2020-08-27 18:52:13--  https://storage.googleapis.com/laurencemoroney-blog.appspot.com/sarcasm.json\n",
            "Resolving storage.googleapis.com (storage.googleapis.com)... 108.177.125.128, 74.125.23.128, 74.125.203.128, ...\n",
            "Connecting to storage.googleapis.com (storage.googleapis.com)|108.177.125.128|:443... connected.\n",
            "HTTP request sent, awaiting response... 200 OK\n",
            "Length: 5643545 (5.4M) [application/json]\n",
            "Saving to: ‘/tmp/sarcasm.json’\n",
            "\n",
            "/tmp/sarcasm.json   100%[===================>]   5.38M  --.-KB/s    in 0.05s   \n",
            "\n",
            "2020-08-27 18:52:14 (108 MB/s) - ‘/tmp/sarcasm.json’ saved [5643545/5643545]\n",
            "\n"
          ],
          "name": "stdout"
        }
      ]
    },
    {
      "cell_type": "code",
      "metadata": {
        "colab_type": "code",
        "id": "oaLaaqhNkUPd",
        "colab": {}
      },
      "source": [
        "with open(\"/tmp/sarcasm.json\", 'r') as f:\n",
        "    datastore = json.load(f)\n",
        "\n",
        "sentences = []\n",
        "labels = []\n",
        "\n",
        "for item in datastore:\n",
        "    sentences.append(item['headline'])\n",
        "    labels.append(item['is_sarcastic'])"
      ],
      "execution_count": 5,
      "outputs": []
    },
    {
      "cell_type": "code",
      "metadata": {
        "colab_type": "code",
        "id": "S1sD-7v0kYWk",
        "colab": {}
      },
      "source": [
        "training_sentences = sentences[0:training_size]\n",
        "testing_sentences = sentences[training_size:]\n",
        "training_labels = labels[0:training_size]\n",
        "testing_labels = labels[training_size:]"
      ],
      "execution_count": 6,
      "outputs": []
    },
    {
      "cell_type": "markdown",
      "metadata": {
        "id": "7eIjcOswRxme",
        "colab_type": "text"
      },
      "source": [
        "### Preprocess"
      ]
    },
    {
      "cell_type": "code",
      "metadata": {
        "colab_type": "code",
        "id": "3u8UB0MCkZ5N",
        "colab": {}
      },
      "source": [
        "tokenizer = Tokenizer(num_words=vocab_size, \n",
        "                      oov_token=oov_tok)\n",
        "\n",
        "tokenizer.fit_on_texts(training_sentences)\n",
        "\n",
        "word_index = tokenizer.word_index\n",
        "\n",
        "training_sequences = tokenizer.texts_to_sequences(training_sentences)\n",
        "training_padded = pad_sequences(training_sequences, \n",
        "                                maxlen=max_length, \n",
        "                                padding=padding_type, \n",
        "                                truncating=trunc_type)\n",
        "\n",
        "testing_sequences = tokenizer.texts_to_sequences(testing_sentences)\n",
        "testing_padded = pad_sequences(testing_sequences, \n",
        "                               maxlen=max_length,\n",
        "                               padding=padding_type, \n",
        "                               truncating=trunc_type)"
      ],
      "execution_count": 8,
      "outputs": []
    },
    {
      "cell_type": "code",
      "metadata": {
        "colab_type": "code",
        "id": "GrAlWBKf99Ya",
        "colab": {}
      },
      "source": [
        "training_padded = np.array(training_padded)\n",
        "training_labels = np.array(training_labels)\n",
        "testing_padded = np.array(testing_padded)\n",
        "testing_labels = np.array(testing_labels)"
      ],
      "execution_count": 9,
      "outputs": []
    },
    {
      "cell_type": "markdown",
      "metadata": {
        "id": "_xfYIryBR0EM",
        "colab_type": "text"
      },
      "source": [
        "### Model"
      ]
    },
    {
      "cell_type": "code",
      "metadata": {
        "colab_type": "code",
        "id": "FufaT4vlkiDE",
        "colab": {}
      },
      "source": [
        "model = tf.keras.Sequential([\n",
        "    tf.keras.layers.Embedding(vocab_size, embedding_dim, input_length=max_length),\n",
        "    tf.keras.layers.GlobalAveragePooling1D(),\n",
        "    tf.keras.layers.Dense(24, activation='relu'),\n",
        "    tf.keras.layers.Dense(1, activation='sigmoid')\n",
        "])\n",
        "model.compile(loss='binary_crossentropy',optimizer='adam',metrics=['accuracy'])"
      ],
      "execution_count": 10,
      "outputs": []
    },
    {
      "cell_type": "code",
      "metadata": {
        "colab_type": "code",
        "id": "XfDt1hmYkiys",
        "colab": {
          "base_uri": "https://localhost:8080/",
          "height": 295
        },
        "outputId": "0a7aebd2-bb91-4740-88db-3a9e782179d3"
      },
      "source": [
        "model.summary()\n"
      ],
      "execution_count": 11,
      "outputs": [
        {
          "output_type": "stream",
          "text": [
            "Model: \"sequential\"\n",
            "_________________________________________________________________\n",
            "Layer (type)                 Output Shape              Param #   \n",
            "=================================================================\n",
            "embedding (Embedding)        (None, 100, 16)           160000    \n",
            "_________________________________________________________________\n",
            "global_average_pooling1d (Gl (None, 16)                0         \n",
            "_________________________________________________________________\n",
            "dense (Dense)                (None, 24)                408       \n",
            "_________________________________________________________________\n",
            "dense_1 (Dense)              (None, 1)                 25        \n",
            "=================================================================\n",
            "Total params: 160,433\n",
            "Trainable params: 160,433\n",
            "Non-trainable params: 0\n",
            "_________________________________________________________________\n"
          ],
          "name": "stdout"
        }
      ]
    },
    {
      "cell_type": "code",
      "metadata": {
        "colab_type": "code",
        "id": "2DTKQFf1kkyc",
        "colab": {
          "base_uri": "https://localhost:8080/",
          "height": 1000
        },
        "outputId": "2a6ac5ee-809f-4eb8-eaec-e99e673decb1"
      },
      "source": [
        "num_epochs = 30\n",
        "history = model.fit(training_padded, training_labels, epochs=num_epochs, validation_data=(testing_padded, testing_labels), verbose=2)"
      ],
      "execution_count": 12,
      "outputs": [
        {
          "output_type": "stream",
          "text": [
            "Epoch 1/30\n",
            "625/625 - 3s - loss: 0.6614 - accuracy: 0.5953 - val_loss: 0.5723 - val_accuracy: 0.8123\n",
            "Epoch 2/30\n",
            "625/625 - 3s - loss: 0.4265 - accuracy: 0.8358 - val_loss: 0.3836 - val_accuracy: 0.8413\n",
            "Epoch 3/30\n",
            "625/625 - 3s - loss: 0.3107 - accuracy: 0.8755 - val_loss: 0.3573 - val_accuracy: 0.8460\n",
            "Epoch 4/30\n",
            "625/625 - 3s - loss: 0.2597 - accuracy: 0.8980 - val_loss: 0.3591 - val_accuracy: 0.8390\n",
            "Epoch 5/30\n",
            "625/625 - 3s - loss: 0.2242 - accuracy: 0.9118 - val_loss: 0.3418 - val_accuracy: 0.8551\n",
            "Epoch 6/30\n",
            "625/625 - 3s - loss: 0.1975 - accuracy: 0.9241 - val_loss: 0.3575 - val_accuracy: 0.8493\n",
            "Epoch 7/30\n",
            "625/625 - 3s - loss: 0.1745 - accuracy: 0.9355 - val_loss: 0.3620 - val_accuracy: 0.8539\n",
            "Epoch 8/30\n",
            "625/625 - 3s - loss: 0.1551 - accuracy: 0.9428 - val_loss: 0.3834 - val_accuracy: 0.8517\n",
            "Epoch 9/30\n",
            "625/625 - 3s - loss: 0.1405 - accuracy: 0.9495 - val_loss: 0.4133 - val_accuracy: 0.8408\n",
            "Epoch 10/30\n",
            "625/625 - 3s - loss: 0.1277 - accuracy: 0.9546 - val_loss: 0.4212 - val_accuracy: 0.8469\n",
            "Epoch 11/30\n",
            "625/625 - 3s - loss: 0.1157 - accuracy: 0.9599 - val_loss: 0.4366 - val_accuracy: 0.8475\n",
            "Epoch 12/30\n",
            "625/625 - 3s - loss: 0.1045 - accuracy: 0.9638 - val_loss: 0.4675 - val_accuracy: 0.8430\n",
            "Epoch 13/30\n",
            "625/625 - 3s - loss: 0.0957 - accuracy: 0.9675 - val_loss: 0.4953 - val_accuracy: 0.8396\n",
            "Epoch 14/30\n",
            "625/625 - 3s - loss: 0.0857 - accuracy: 0.9711 - val_loss: 0.5280 - val_accuracy: 0.8374\n",
            "Epoch 15/30\n",
            "625/625 - 3s - loss: 0.0785 - accuracy: 0.9740 - val_loss: 0.5474 - val_accuracy: 0.8386\n",
            "Epoch 16/30\n",
            "625/625 - 3s - loss: 0.0733 - accuracy: 0.9765 - val_loss: 0.5814 - val_accuracy: 0.8359\n",
            "Epoch 17/30\n",
            "625/625 - 3s - loss: 0.0670 - accuracy: 0.9782 - val_loss: 0.6497 - val_accuracy: 0.8231\n",
            "Epoch 18/30\n",
            "625/625 - 3s - loss: 0.0598 - accuracy: 0.9808 - val_loss: 0.6478 - val_accuracy: 0.8317\n",
            "Epoch 19/30\n",
            "625/625 - 3s - loss: 0.0548 - accuracy: 0.9834 - val_loss: 0.6815 - val_accuracy: 0.8298\n",
            "Epoch 20/30\n",
            "625/625 - 3s - loss: 0.0515 - accuracy: 0.9840 - val_loss: 0.7191 - val_accuracy: 0.8256\n",
            "Epoch 21/30\n",
            "625/625 - 3s - loss: 0.0463 - accuracy: 0.9856 - val_loss: 0.7585 - val_accuracy: 0.8240\n",
            "Epoch 22/30\n",
            "625/625 - 3s - loss: 0.0435 - accuracy: 0.9872 - val_loss: 0.7852 - val_accuracy: 0.8238\n",
            "Epoch 23/30\n",
            "625/625 - 3s - loss: 0.0398 - accuracy: 0.9881 - val_loss: 0.8607 - val_accuracy: 0.8188\n",
            "Epoch 24/30\n",
            "625/625 - 3s - loss: 0.0357 - accuracy: 0.9893 - val_loss: 0.9107 - val_accuracy: 0.8165\n",
            "Epoch 25/30\n",
            "625/625 - 3s - loss: 0.0330 - accuracy: 0.9905 - val_loss: 0.9014 - val_accuracy: 0.8217\n",
            "Epoch 26/30\n",
            "625/625 - 3s - loss: 0.0304 - accuracy: 0.9912 - val_loss: 0.9390 - val_accuracy: 0.8167\n",
            "Epoch 27/30\n",
            "625/625 - 3s - loss: 0.0279 - accuracy: 0.9927 - val_loss: 0.9782 - val_accuracy: 0.8167\n",
            "Epoch 28/30\n",
            "625/625 - 3s - loss: 0.0265 - accuracy: 0.9926 - val_loss: 1.0122 - val_accuracy: 0.8144\n",
            "Epoch 29/30\n",
            "625/625 - 3s - loss: 0.0239 - accuracy: 0.9934 - val_loss: 1.0792 - val_accuracy: 0.8123\n",
            "Epoch 30/30\n",
            "625/625 - 4s - loss: 0.0218 - accuracy: 0.9936 - val_loss: 1.0889 - val_accuracy: 0.8114\n"
          ],
          "name": "stdout"
        }
      ]
    },
    {
      "cell_type": "code",
      "metadata": {
        "colab_type": "code",
        "id": "2HYfBKXjkmU8",
        "colab": {
          "base_uri": "https://localhost:8080/",
          "height": 541
        },
        "outputId": "7475a0d6-5db6-4c07-c514-af71179d1327"
      },
      "source": [
        "def plot_graphs(history, string):\n",
        "  plt.plot(history.history[string])\n",
        "  plt.plot(history.history['val_'+string])\n",
        "  plt.xlabel(\"Epochs\")\n",
        "  plt.ylabel(string)\n",
        "  plt.legend([string, 'val_'+string])\n",
        "  plt.show()\n",
        "  \n",
        "plot_graphs(history, \"accuracy\")\n",
        "plot_graphs(history, \"loss\")"
      ],
      "execution_count": 13,
      "outputs": [
        {
          "output_type": "display_data",
          "data": {
            "image/png": "[encoded data removed]",
            "text/plain": [
              "<Figure size 432x288 with 1 Axes>"
            ]
          },
          "metadata": {
            "tags": [],
            "needs_background": "light"
          }
        },
        {
          "output_type": "display_data",
          "data": {
            "image/png": "[encoded data removed]",
            "text/plain": [
              "<Figure size 432x288 with 1 Axes>"
            ]
          },
          "metadata": {
            "tags": [],
            "needs_background": "light"
          }
        }
      ]
    },
    {
      "cell_type": "markdown",
      "metadata": {
        "id": "maxKp2PrR29q",
        "colab_type": "text"
      },
      "source": [
        "The validation accuracy mantains in a 0.8 level, but the loss increased. This is a common behaviour of text data. Trying to adjust parameters we might increased the accuracy."
      ]
    },
    {
      "cell_type": "code",
      "metadata": {
        "id": "CM996WGdRUp3",
        "colab_type": "code",
        "colab": {
          "base_uri": "https://localhost:8080/",
          "height": 1000
        },
        "outputId": "3ddd7d96-6cf4-43f4-ee60-1459ba76cea5"
      },
      "source": [
        "vocab_size = 2500\n",
        "embedding_dim = 64\n",
        "max_length = 50\n",
        "trunc_type='post'\n",
        "padding_type='post'\n",
        "oov_tok = \"<OOV>\"\n",
        "training_size = 20000\n",
        "\n",
        "\n",
        "tokenizer = Tokenizer(num_words=vocab_size, \n",
        "                      oov_token=oov_tok)\n",
        "\n",
        "tokenizer.fit_on_texts(training_sentences)\n",
        "\n",
        "word_index = tokenizer.word_index\n",
        "\n",
        "training_sequences = tokenizer.texts_to_sequences(training_sentences)\n",
        "training_padded = pad_sequences(training_sequences, \n",
        "                                maxlen=max_length, \n",
        "                                padding=padding_type, \n",
        "                                truncating=trunc_type)\n",
        "\n",
        "testing_sequences = tokenizer.texts_to_sequences(testing_sentences)\n",
        "testing_padded = pad_sequences(testing_sequences, \n",
        "                               maxlen=max_length,\n",
        "                               padding=padding_type, \n",
        "                               truncating=trunc_type)\n",
        "\n",
        "training_padded = np.array(training_padded)\n",
        "training_labels = np.array(training_labels)\n",
        "testing_padded = np.array(testing_padded)\n",
        "testing_labels = np.array(testing_labels)\n",
        "\n",
        "\n",
        "model = tf.keras.Sequential([\n",
        "    tf.keras.layers.Embedding(vocab_size, embedding_dim, input_length=max_length),\n",
        "    tf.keras.layers.GlobalAveragePooling1D(),\n",
        "    tf.keras.layers.Dense(24, activation='relu'),\n",
        "    tf.keras.layers.Dense(1, activation='sigmoid')\n",
        "])\n",
        "model.compile(loss='binary_crossentropy',optimizer='adam',metrics=['accuracy'])\n",
        "\n",
        "num_epochs = 30\n",
        "history = model.fit(training_padded, \n",
        "                    training_labels, \n",
        "                    epochs=num_epochs,\n",
        "                    validation_data=(testing_padded, testing_labels), \n",
        "                    verbose=2)\n",
        "\n",
        "plot_graphs(history, \"accuracy\")\n",
        "plot_graphs(history, \"loss\")"
      ],
      "execution_count": 25,
      "outputs": [
        {
          "output_type": "stream",
          "text": [
            "Epoch 1/30\n",
            "625/625 - 3s - loss: 0.5255 - accuracy: 0.7239 - val_loss: 0.3968 - val_accuracy: 0.8241\n",
            "Epoch 2/30\n",
            "625/625 - 3s - loss: 0.3422 - accuracy: 0.8518 - val_loss: 0.3701 - val_accuracy: 0.8320\n",
            "Epoch 3/30\n",
            "625/625 - 3s - loss: 0.3065 - accuracy: 0.8692 - val_loss: 0.3701 - val_accuracy: 0.8343\n",
            "Epoch 4/30\n",
            "625/625 - 3s - loss: 0.2921 - accuracy: 0.8733 - val_loss: 0.3882 - val_accuracy: 0.8281\n",
            "Epoch 5/30\n",
            "625/625 - 3s - loss: 0.2838 - accuracy: 0.8771 - val_loss: 0.3849 - val_accuracy: 0.8296\n",
            "Epoch 6/30\n",
            "625/625 - 3s - loss: 0.2777 - accuracy: 0.8798 - val_loss: 0.3969 - val_accuracy: 0.8316\n",
            "Epoch 7/30\n",
            "625/625 - 3s - loss: 0.2744 - accuracy: 0.8820 - val_loss: 0.3932 - val_accuracy: 0.8313\n",
            "Epoch 8/30\n",
            "625/625 - 3s - loss: 0.2714 - accuracy: 0.8834 - val_loss: 0.4000 - val_accuracy: 0.8325\n",
            "Epoch 9/30\n",
            "625/625 - 3s - loss: 0.2686 - accuracy: 0.8841 - val_loss: 0.4048 - val_accuracy: 0.8305\n",
            "Epoch 10/30\n",
            "625/625 - 3s - loss: 0.2668 - accuracy: 0.8862 - val_loss: 0.4509 - val_accuracy: 0.8092\n",
            "Epoch 11/30\n",
            "625/625 - 3s - loss: 0.2665 - accuracy: 0.8863 - val_loss: 0.4085 - val_accuracy: 0.8287\n",
            "Epoch 12/30\n",
            "625/625 - 3s - loss: 0.2661 - accuracy: 0.8852 - val_loss: 0.4140 - val_accuracy: 0.8229\n",
            "Epoch 13/30\n",
            "625/625 - 3s - loss: 0.2624 - accuracy: 0.8868 - val_loss: 0.4146 - val_accuracy: 0.8264\n",
            "Epoch 14/30\n",
            "625/625 - 3s - loss: 0.2627 - accuracy: 0.8867 - val_loss: 0.4137 - val_accuracy: 0.8277\n",
            "Epoch 15/30\n",
            "625/625 - 3s - loss: 0.2628 - accuracy: 0.8870 - val_loss: 0.4161 - val_accuracy: 0.8268\n",
            "Epoch 16/30\n",
            "625/625 - 3s - loss: 0.2606 - accuracy: 0.8874 - val_loss: 0.4135 - val_accuracy: 0.8269\n",
            "Epoch 17/30\n",
            "625/625 - 3s - loss: 0.2597 - accuracy: 0.8885 - val_loss: 0.4185 - val_accuracy: 0.8238\n",
            "Epoch 18/30\n",
            "625/625 - 3s - loss: 0.2579 - accuracy: 0.8891 - val_loss: 0.4214 - val_accuracy: 0.8250\n",
            "Epoch 19/30\n",
            "625/625 - 3s - loss: 0.2578 - accuracy: 0.8897 - val_loss: 0.4248 - val_accuracy: 0.8274\n",
            "Epoch 20/30\n",
            "625/625 - 3s - loss: 0.2563 - accuracy: 0.8912 - val_loss: 0.4255 - val_accuracy: 0.8220\n",
            "Epoch 21/30\n",
            "625/625 - 4s - loss: 0.2559 - accuracy: 0.8907 - val_loss: 0.4238 - val_accuracy: 0.8240\n",
            "Epoch 22/30\n",
            "625/625 - 4s - loss: 0.2523 - accuracy: 0.8924 - val_loss: 0.4235 - val_accuracy: 0.8253\n",
            "Epoch 23/30\n",
            "625/625 - 4s - loss: 0.2507 - accuracy: 0.8926 - val_loss: 0.4288 - val_accuracy: 0.8211\n",
            "Epoch 24/30\n",
            "625/625 - 3s - loss: 0.2502 - accuracy: 0.8931 - val_loss: 0.4196 - val_accuracy: 0.8232\n",
            "Epoch 25/30\n",
            "625/625 - 3s - loss: 0.2466 - accuracy: 0.8943 - val_loss: 0.4201 - val_accuracy: 0.8240\n",
            "Epoch 26/30\n",
            "625/625 - 3s - loss: 0.2424 - accuracy: 0.8971 - val_loss: 0.4532 - val_accuracy: 0.8147\n",
            "Epoch 27/30\n",
            "625/625 - 3s - loss: 0.2385 - accuracy: 0.8974 - val_loss: 0.4372 - val_accuracy: 0.8265\n",
            "Epoch 28/30\n",
            "625/625 - 3s - loss: 0.2318 - accuracy: 0.9010 - val_loss: 0.4458 - val_accuracy: 0.8252\n",
            "Epoch 29/30\n",
            "625/625 - 3s - loss: 0.2264 - accuracy: 0.9029 - val_loss: 0.4442 - val_accuracy: 0.8256\n",
            "Epoch 30/30\n",
            "625/625 - 3s - loss: 0.2196 - accuracy: 0.9072 - val_loss: 0.4542 - val_accuracy: 0.8231\n"
          ],
          "name": "stdout"
        },
        {
          "output_type": "display_data",
          "data": {
            "image/png": "[encoded data removed]",
            "text/plain": [
              "<Figure size 432x288 with 1 Axes>"
            ]
          },
          "metadata": {
            "tags": [],
            "needs_background": "light"
          }
        },
        {
          "output_type": "display_data",
          "data": {
            "image/png": "[encoded data removed]",
            "text/plain": [
              "<Figure size 432x288 with 1 Axes>"
            ]
          },
          "metadata": {
            "tags": [],
            "needs_background": "light"
          }
        }
      ]
    },
    {
      "cell_type": "code",
      "metadata": {
        "colab_type": "code",
        "id": "cG8-ArY-qDcz",
        "colab": {
          "base_uri": "https://localhost:8080/",
          "height": 52
        },
        "outputId": "5cfbefcb-f37d-4db7-f4a0-9416b904f07e"
      },
      "source": [
        "sentence = [\"granny starting to fear spiders in the garden might be real\", \"game of thrones season finale showing this sunday night\"]\n",
        "sequences = tokenizer.texts_to_sequences(sentence)\n",
        "padded = pad_sequences(sequences, maxlen=max_length, padding=padding_type, truncating=trunc_type)\n",
        "print(model.predict(padded))"
      ],
      "execution_count": 26,
      "outputs": [
        {
          "output_type": "stream",
          "text": [
            "[[0.15519515]\n",
            " [0.00280154]]\n"
          ],
          "name": "stdout"
        }
      ]
    }
  ]
}