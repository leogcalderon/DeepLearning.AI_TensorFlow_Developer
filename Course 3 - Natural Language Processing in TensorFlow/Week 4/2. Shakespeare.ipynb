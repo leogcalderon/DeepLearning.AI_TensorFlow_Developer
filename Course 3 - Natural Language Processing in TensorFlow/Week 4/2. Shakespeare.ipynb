{
  "nbformat": 4,
  "nbformat_minor": 0,
  "metadata": {
    "accelerator": "GPU",
    "colab": {
      "name": "NLP_Week4_Exercise_Shakespeare_Question.ipynb",
      "provenance": [],
      "toc_visible": true
    },
    "kernelspec": {
      "display_name": "Python 3",
      "name": "python3"
    }
  },
  "cells": [
    {
      "cell_type": "markdown",
      "metadata": {
        "id": "VBDtwLht6lr7",
        "colab_type": "text"
      },
      "source": [
        "#Exercise 4\n",
        "## Using LSTMs, see if you can write Shakespeare!\n",
        "In this course you’ve done a lot of NLP and text processing. This week you trained with a dataset of Irish songs to create traditional-sounding poetry. For this week’s exercise, you’ll take a corpus of Shakespeare sonnets, and use them to train a model. Then, see if that model can create poetry!"
      ]
    },
    {
      "cell_type": "code",
      "metadata": {
        "colab_type": "code",
        "id": "BOwsuGQQY9OL",
        "colab": {}
      },
      "source": [
        "from tensorflow.keras.preprocessing.sequence import pad_sequences\n",
        "from tensorflow.keras.layers import Embedding, LSTM, Dense, Dropout, Bidirectional\n",
        "from tensorflow.keras.preprocessing.text import Tokenizer\n",
        "from tensorflow.keras.models import Sequential\n",
        "from tensorflow.keras.optimizers import Adam\n",
        "import tensorflow.keras.utils as ku \n",
        "import numpy as np\n",
        "import tensorflow as tf"
      ],
      "execution_count": 18,
      "outputs": []
    },
    {
      "cell_type": "markdown",
      "metadata": {
        "id": "vqrccZSr6wGw",
        "colab_type": "text"
      },
      "source": [
        "# Data download"
      ]
    },
    {
      "cell_type": "code",
      "metadata": {
        "id": "ps75vcpF6hVn",
        "colab_type": "code",
        "colab": {
          "base_uri": "https://localhost:8080/",
          "height": 208
        },
        "outputId": "aab0affe-0799-4195-f7dd-13fb5deeb563"
      },
      "source": [
        "!wget --no-check-certificate \\\n",
        "    https://storage.googleapis.com/laurencemoroney-blog.appspot.com/sonnets.txt \\\n",
        "    -O /tmp/sonnets.txt"
      ],
      "execution_count": 2,
      "outputs": [
        {
          "output_type": "stream",
          "text": [
            "--2020-08-28 02:34:03--  https://storage.googleapis.com/laurencemoroney-blog.appspot.com/sonnets.txt\n",
            "Resolving storage.googleapis.com (storage.googleapis.com)... 74.125.20.128, 74.125.142.128, 74.125.195.128, ...\n",
            "Connecting to storage.googleapis.com (storage.googleapis.com)|74.125.20.128|:443... connected.\n",
            "HTTP request sent, awaiting response... 200 OK\n",
            "Length: 93578 (91K) [text/plain]\n",
            "Saving to: ‘/tmp/sonnets.txt’\n",
            "\n",
            "\r/tmp/sonnets.txt      0%[                    ]       0  --.-KB/s               \r/tmp/sonnets.txt    100%[===================>]  91.38K  --.-KB/s    in 0.001s  \n",
            "\n",
            "2020-08-28 02:34:03 (96.1 MB/s) - ‘/tmp/sonnets.txt’ saved [93578/93578]\n",
            "\n"
          ],
          "name": "stdout"
        }
      ]
    },
    {
      "cell_type": "code",
      "metadata": {
        "colab_type": "code",
        "id": "PRnDnCW-Z7qv",
        "colab": {}
      },
      "source": [
        "data = open('/tmp/sonnets.txt').read()\n",
        "corpus = data.lower().split(\"\\n\")\n",
        "\n",
        "#Create and fit tokenizer. Add one word more for OOV to the vocab size.\n",
        "tokenizer = Tokenizer()\n",
        "tokenizer.fit_on_texts(corpus)\n",
        "total_words = len(tokenizer.word_index) + 1\n",
        "\n",
        "# Create sequences.\n",
        "input_sequences = []\n",
        "for line in corpus:\n",
        "\ttoken_list = tokenizer.texts_to_sequences([line])[0]\n",
        "\tfor i in range(1, len(token_list)):\n",
        "\t\tn_gram_sequence = token_list[:i+1]\n",
        "\t\tinput_sequences.append(n_gram_sequence)\n",
        "\n",
        "\n",
        "# Padd sequences. (pre -> to extract labels) \n",
        "max_sequence_len = max([len(x) for x in input_sequences])\n",
        "input_sequences = np.array(pad_sequences(input_sequences, maxlen=max_sequence_len, padding='pre'))\n",
        "\n",
        "# Extract labels and features.\n",
        "predictors, label = input_sequences[:,:-1],input_sequences[:,-1]\n",
        "label = ku.to_categorical(label, num_classes=total_words)"
      ],
      "execution_count": 3,
      "outputs": []
    },
    {
      "cell_type": "code",
      "metadata": {
        "colab_type": "code",
        "id": "w9vH8Y59ajYL",
        "colab": {
          "base_uri": "https://localhost:8080/",
          "height": 416
        },
        "outputId": "3f06cf9c-8057-447c-c85c-2f76a5280789"
      },
      "source": [
        "model = Sequential()\n",
        "#We substract 1 because we substracted one for the labels of each sequence of xs.\n",
        "model.add(Embedding(total_words, 250,input_length = max_sequence_len - 1))\n",
        "model.add(Bidirectional(LSTM(128, return_sequences=True)))\n",
        "model.add(Dropout(0.3))\n",
        "model.add(Bidirectional(LSTM(64)))\n",
        "model.add(Dropout(0.15))\n",
        "model.add(Dense(128))\n",
        "model.add(Dense(total_words, activation='softmax'))\n",
        "opt = Adam(lr = 0.001)\n",
        "model.compile(optimizer = opt, loss = 'categorical_crossentropy', metrics = ['accuracy'])\n",
        "print(model.summary())\n"
      ],
      "execution_count": 23,
      "outputs": [
        {
          "output_type": "stream",
          "text": [
            "Model: \"sequential_3\"\n",
            "_________________________________________________________________\n",
            "Layer (type)                 Output Shape              Param #   \n",
            "=================================================================\n",
            "embedding_3 (Embedding)      (None, 10, 250)           802750    \n",
            "_________________________________________________________________\n",
            "bidirectional_6 (Bidirection (None, 10, 256)           388096    \n",
            "_________________________________________________________________\n",
            "dropout_3 (Dropout)          (None, 10, 256)           0         \n",
            "_________________________________________________________________\n",
            "bidirectional_7 (Bidirection (None, 128)               164352    \n",
            "_________________________________________________________________\n",
            "dropout_4 (Dropout)          (None, 128)               0         \n",
            "_________________________________________________________________\n",
            "dense_4 (Dense)              (None, 128)               16512     \n",
            "_________________________________________________________________\n",
            "dense_5 (Dense)              (None, 3211)              414219    \n",
            "=================================================================\n",
            "Total params: 1,785,929\n",
            "Trainable params: 1,785,929\n",
            "Non-trainable params: 0\n",
            "_________________________________________________________________\n",
            "None\n"
          ],
          "name": "stdout"
        }
      ]
    },
    {
      "cell_type": "code",
      "metadata": {
        "colab_type": "code",
        "id": "AIg2f1HBxqof",
        "colab": {
          "base_uri": "https://localhost:8080/",
          "height": 1000
        },
        "outputId": "2953483d-b872-4540-d02b-399ceaebfb12"
      },
      "source": [
        " history = model.fit(predictors, label, epochs=100, verbose=1)"
      ],
      "execution_count": 24,
      "outputs": [
        {
          "output_type": "stream",
          "text": [
            "Epoch 1/100\n",
            "484/484 [==============================] - 8s 16ms/step - loss: 6.8708 - accuracy: 0.0243\n",
            "Epoch 2/100\n",
            "484/484 [==============================] - 8s 17ms/step - loss: 6.4372 - accuracy: 0.0333\n",
            "Epoch 3/100\n",
            "484/484 [==============================] - 8s 16ms/step - loss: 6.2647 - accuracy: 0.0365\n",
            "Epoch 4/100\n",
            "484/484 [==============================] - 8s 16ms/step - loss: 6.1089 - accuracy: 0.0411\n",
            "Epoch 5/100\n",
            "484/484 [==============================] - 7s 15ms/step - loss: 5.9211 - accuracy: 0.0539\n",
            "Epoch 6/100\n",
            "484/484 [==============================] - 8s 16ms/step - loss: 5.7222 - accuracy: 0.0623\n",
            "Epoch 7/100\n",
            "484/484 [==============================] - 8s 16ms/step - loss: 5.5350 - accuracy: 0.0696\n",
            "Epoch 8/100\n",
            "484/484 [==============================] - 8s 16ms/step - loss: 5.3395 - accuracy: 0.0748\n",
            "Epoch 9/100\n",
            "484/484 [==============================] - 7s 15ms/step - loss: 5.1574 - accuracy: 0.0785\n",
            "Epoch 10/100\n",
            "484/484 [==============================] - 8s 16ms/step - loss: 4.9798 - accuracy: 0.0893\n",
            "Epoch 11/100\n",
            "484/484 [==============================] - 8s 16ms/step - loss: 4.7972 - accuracy: 0.0979\n",
            "Epoch 12/100\n",
            "484/484 [==============================] - 8s 16ms/step - loss: 4.6159 - accuracy: 0.1105\n",
            "Epoch 13/100\n",
            "484/484 [==============================] - 7s 15ms/step - loss: 4.4384 - accuracy: 0.1233\n",
            "Epoch 14/100\n",
            "484/484 [==============================] - 8s 16ms/step - loss: 4.2628 - accuracy: 0.1378\n",
            "Epoch 15/100\n",
            "484/484 [==============================] - 7s 15ms/step - loss: 4.0865 - accuracy: 0.1543\n",
            "Epoch 16/100\n",
            "484/484 [==============================] - 8s 16ms/step - loss: 3.9134 - accuracy: 0.1823\n",
            "Epoch 17/100\n",
            "484/484 [==============================] - 8s 16ms/step - loss: 3.7394 - accuracy: 0.2042\n",
            "Epoch 18/100\n",
            "484/484 [==============================] - 8s 16ms/step - loss: 3.5773 - accuracy: 0.2282\n",
            "Epoch 19/100\n",
            "484/484 [==============================] - 8s 16ms/step - loss: 3.4212 - accuracy: 0.2502\n",
            "Epoch 20/100\n",
            "484/484 [==============================] - 8s 16ms/step - loss: 3.2769 - accuracy: 0.2727\n",
            "Epoch 21/100\n",
            "484/484 [==============================] - 8s 16ms/step - loss: 3.1280 - accuracy: 0.3033\n",
            "Epoch 22/100\n",
            "484/484 [==============================] - 8s 16ms/step - loss: 2.9774 - accuracy: 0.3315\n",
            "Epoch 23/100\n",
            "484/484 [==============================] - 8s 16ms/step - loss: 2.8634 - accuracy: 0.3490\n",
            "Epoch 24/100\n",
            "484/484 [==============================] - 8s 16ms/step - loss: 2.7328 - accuracy: 0.3723\n",
            "Epoch 25/100\n",
            "484/484 [==============================] - 8s 16ms/step - loss: 2.5913 - accuracy: 0.3994\n",
            "Epoch 26/100\n",
            "484/484 [==============================] - 8s 16ms/step - loss: 2.4848 - accuracy: 0.4232\n",
            "Epoch 27/100\n",
            "484/484 [==============================] - 8s 16ms/step - loss: 2.3793 - accuracy: 0.4455\n",
            "Epoch 28/100\n",
            "484/484 [==============================] - 8s 16ms/step - loss: 2.3079 - accuracy: 0.4588\n",
            "Epoch 29/100\n",
            "484/484 [==============================] - 8s 16ms/step - loss: 2.2050 - accuracy: 0.4777\n",
            "Epoch 30/100\n",
            "484/484 [==============================] - 8s 16ms/step - loss: 2.1122 - accuracy: 0.4929\n",
            "Epoch 31/100\n",
            "484/484 [==============================] - 8s 16ms/step - loss: 2.0396 - accuracy: 0.5115\n",
            "Epoch 32/100\n",
            "484/484 [==============================] - 8s 16ms/step - loss: 1.9606 - accuracy: 0.5293\n",
            "Epoch 33/100\n",
            "484/484 [==============================] - 8s 16ms/step - loss: 1.8828 - accuracy: 0.5448\n",
            "Epoch 34/100\n",
            "484/484 [==============================] - 8s 16ms/step - loss: 1.8233 - accuracy: 0.5546\n",
            "Epoch 35/100\n",
            "484/484 [==============================] - 8s 15ms/step - loss: 1.7585 - accuracy: 0.5731\n",
            "Epoch 36/100\n",
            "484/484 [==============================] - 8s 16ms/step - loss: 1.7051 - accuracy: 0.5810\n",
            "Epoch 37/100\n",
            "484/484 [==============================] - 8s 16ms/step - loss: 1.6685 - accuracy: 0.5899\n",
            "Epoch 38/100\n",
            "484/484 [==============================] - 8s 16ms/step - loss: 1.6096 - accuracy: 0.6037\n",
            "Epoch 39/100\n",
            "484/484 [==============================] - 8s 16ms/step - loss: 1.5615 - accuracy: 0.6180\n",
            "Epoch 40/100\n",
            "484/484 [==============================] - 8s 16ms/step - loss: 1.5232 - accuracy: 0.6272\n",
            "Epoch 41/100\n",
            "484/484 [==============================] - 8s 16ms/step - loss: 1.4579 - accuracy: 0.6392\n",
            "Epoch 42/100\n",
            "484/484 [==============================] - 8s 16ms/step - loss: 1.4388 - accuracy: 0.6456\n",
            "Epoch 43/100\n",
            "484/484 [==============================] - 8s 17ms/step - loss: 1.4149 - accuracy: 0.6483\n",
            "Epoch 44/100\n",
            "484/484 [==============================] - 7s 15ms/step - loss: 1.3756 - accuracy: 0.6583\n",
            "Epoch 45/100\n",
            "484/484 [==============================] - 8s 16ms/step - loss: 1.3376 - accuracy: 0.6667\n",
            "Epoch 46/100\n",
            "484/484 [==============================] - 8s 16ms/step - loss: 1.3041 - accuracy: 0.6732\n",
            "Epoch 47/100\n",
            "484/484 [==============================] - 8s 16ms/step - loss: 1.2934 - accuracy: 0.6747\n",
            "Epoch 48/100\n",
            "484/484 [==============================] - 8s 16ms/step - loss: 1.2515 - accuracy: 0.6878\n",
            "Epoch 49/100\n",
            "484/484 [==============================] - 8s 16ms/step - loss: 1.2284 - accuracy: 0.6967\n",
            "Epoch 50/100\n",
            "484/484 [==============================] - 8s 16ms/step - loss: 1.2112 - accuracy: 0.6964\n",
            "Epoch 51/100\n",
            "484/484 [==============================] - 8s 16ms/step - loss: 1.2123 - accuracy: 0.6969\n",
            "Epoch 52/100\n",
            "484/484 [==============================] - 8s 16ms/step - loss: 1.1732 - accuracy: 0.7034\n",
            "Epoch 53/100\n",
            "484/484 [==============================] - 8s 16ms/step - loss: 1.1529 - accuracy: 0.7121\n",
            "Epoch 54/100\n",
            "484/484 [==============================] - 8s 16ms/step - loss: 1.1246 - accuracy: 0.7174\n",
            "Epoch 55/100\n",
            "484/484 [==============================] - 8s 16ms/step - loss: 1.1133 - accuracy: 0.7199\n",
            "Epoch 56/100\n",
            "484/484 [==============================] - 8s 16ms/step - loss: 1.1166 - accuracy: 0.7227\n",
            "Epoch 57/100\n",
            "484/484 [==============================] - 8s 16ms/step - loss: 1.0964 - accuracy: 0.7284\n",
            "Epoch 58/100\n",
            "484/484 [==============================] - 8s 16ms/step - loss: 1.0747 - accuracy: 0.7301\n",
            "Epoch 59/100\n",
            "484/484 [==============================] - 8s 16ms/step - loss: 1.0736 - accuracy: 0.7297\n",
            "Epoch 60/100\n",
            "484/484 [==============================] - 8s 16ms/step - loss: 1.0391 - accuracy: 0.7383\n",
            "Epoch 61/100\n",
            "484/484 [==============================] - 8s 16ms/step - loss: 1.0320 - accuracy: 0.7432\n",
            "Epoch 62/100\n",
            "484/484 [==============================] - 8s 16ms/step - loss: 1.0267 - accuracy: 0.7412\n",
            "Epoch 63/100\n",
            "484/484 [==============================] - 8s 16ms/step - loss: 1.0046 - accuracy: 0.7476\n",
            "Epoch 64/100\n",
            "484/484 [==============================] - 8s 16ms/step - loss: 1.0211 - accuracy: 0.7421\n",
            "Epoch 65/100\n",
            "484/484 [==============================] - 8s 16ms/step - loss: 1.0144 - accuracy: 0.7418\n",
            "Epoch 66/100\n",
            "484/484 [==============================] - 8s 16ms/step - loss: 0.9836 - accuracy: 0.7536\n",
            "Epoch 67/100\n",
            "484/484 [==============================] - 8s 16ms/step - loss: 0.9639 - accuracy: 0.7588\n",
            "Epoch 68/100\n",
            "484/484 [==============================] - 8s 16ms/step - loss: 0.9745 - accuracy: 0.7569\n",
            "Epoch 69/100\n",
            "484/484 [==============================] - 8s 16ms/step - loss: 0.9711 - accuracy: 0.7541\n",
            "Epoch 70/100\n",
            "484/484 [==============================] - 7s 15ms/step - loss: 0.9468 - accuracy: 0.7614\n",
            "Epoch 71/100\n",
            "484/484 [==============================] - 8s 16ms/step - loss: 0.9459 - accuracy: 0.7594\n",
            "Epoch 72/100\n",
            "484/484 [==============================] - 8s 16ms/step - loss: 0.9324 - accuracy: 0.7645\n",
            "Epoch 73/100\n",
            "484/484 [==============================] - 8s 16ms/step - loss: 0.9235 - accuracy: 0.7652\n",
            "Epoch 74/100\n",
            "484/484 [==============================] - 8s 16ms/step - loss: 0.9175 - accuracy: 0.7668\n",
            "Epoch 75/100\n",
            "484/484 [==============================] - 8s 16ms/step - loss: 0.9262 - accuracy: 0.7670\n",
            "Epoch 76/100\n",
            "484/484 [==============================] - 7s 15ms/step - loss: 0.9098 - accuracy: 0.7677\n",
            "Epoch 77/100\n",
            "484/484 [==============================] - 8s 16ms/step - loss: 0.9068 - accuracy: 0.7692\n",
            "Epoch 78/100\n",
            "484/484 [==============================] - 8s 16ms/step - loss: 0.9059 - accuracy: 0.7723\n",
            "Epoch 79/100\n",
            "484/484 [==============================] - 8s 16ms/step - loss: 0.8910 - accuracy: 0.7758\n",
            "Epoch 80/100\n",
            "484/484 [==============================] - 8s 16ms/step - loss: 0.8965 - accuracy: 0.7745\n",
            "Epoch 81/100\n",
            "484/484 [==============================] - 8s 16ms/step - loss: 0.8790 - accuracy: 0.7810\n",
            "Epoch 82/100\n",
            "484/484 [==============================] - 8s 16ms/step - loss: 0.8583 - accuracy: 0.7825\n",
            "Epoch 83/100\n",
            "484/484 [==============================] - 8s 17ms/step - loss: 0.8615 - accuracy: 0.7826\n",
            "Epoch 84/100\n",
            "484/484 [==============================] - 8s 17ms/step - loss: 0.8778 - accuracy: 0.7754\n",
            "Epoch 85/100\n",
            "484/484 [==============================] - 8s 16ms/step - loss: 0.8789 - accuracy: 0.7769\n",
            "Epoch 86/100\n",
            "484/484 [==============================] - 8s 16ms/step - loss: 0.8623 - accuracy: 0.7813\n",
            "Epoch 87/100\n",
            "484/484 [==============================] - 8s 16ms/step - loss: 0.8648 - accuracy: 0.7801\n",
            "Epoch 88/100\n",
            "484/484 [==============================] - 7s 15ms/step - loss: 0.8453 - accuracy: 0.7877\n",
            "Epoch 89/100\n",
            "484/484 [==============================] - 7s 15ms/step - loss: 0.8459 - accuracy: 0.7857\n",
            "Epoch 90/100\n",
            "484/484 [==============================] - 8s 16ms/step - loss: 0.8477 - accuracy: 0.7850\n",
            "Epoch 91/100\n",
            "484/484 [==============================] - 8s 16ms/step - loss: 0.8441 - accuracy: 0.7858\n",
            "Epoch 92/100\n",
            "484/484 [==============================] - 8s 16ms/step - loss: 0.8327 - accuracy: 0.7894\n",
            "Epoch 93/100\n",
            "484/484 [==============================] - 8s 16ms/step - loss: 0.8147 - accuracy: 0.7951\n",
            "Epoch 94/100\n",
            "484/484 [==============================] - 8s 16ms/step - loss: 0.8246 - accuracy: 0.7930\n",
            "Epoch 95/100\n",
            "484/484 [==============================] - 8s 16ms/step - loss: 0.8522 - accuracy: 0.7833\n",
            "Epoch 96/100\n",
            "484/484 [==============================] - 8s 16ms/step - loss: 0.8121 - accuracy: 0.7929\n",
            "Epoch 97/100\n",
            "484/484 [==============================] - 8s 16ms/step - loss: 0.8101 - accuracy: 0.7946\n",
            "Epoch 98/100\n",
            "484/484 [==============================] - 8s 16ms/step - loss: 0.7920 - accuracy: 0.7972\n",
            "Epoch 99/100\n",
            "484/484 [==============================] - 8s 16ms/step - loss: 0.8121 - accuracy: 0.7925\n",
            "Epoch 100/100\n",
            "484/484 [==============================] - 8s 16ms/step - loss: 0.8055 - accuracy: 0.7949\n"
          ],
          "name": "stdout"
        }
      ]
    },
    {
      "cell_type": "code",
      "metadata": {
        "colab_type": "code",
        "id": "1fXTEO3GJ282",
        "colab": {
          "base_uri": "https://localhost:8080/",
          "height": 545
        },
        "outputId": "98548a8e-ca9a-4e9f-e0a1-e4f0579f1111"
      },
      "source": [
        "#Plot results\n",
        "import matplotlib.pyplot as plt\n",
        "acc = history.history['accuracy']\n",
        "loss = history.history['loss']\n",
        "\n",
        "epochs = range(len(acc))\n",
        "\n",
        "plt.plot(epochs, acc, 'b', label='Training accuracy')\n",
        "plt.title('Training accuracy')\n",
        "\n",
        "plt.figure()\n",
        "\n",
        "plt.plot(epochs, loss, 'b', label='Training Loss')\n",
        "plt.title('Training loss')\n",
        "plt.legend()\n",
        "\n",
        "plt.show()"
      ],
      "execution_count": 25,
      "outputs": [
        {
          "output_type": "display_data",
          "data": {
            "image/png": "[encoded data removed]",
            "text/plain": [
              "<Figure size 432x288 with 1 Axes>"
            ]
          },
          "metadata": {
            "tags": [],
            "needs_background": "light"
          }
        },
        {
          "output_type": "display_data",
          "data": {
            "image/png": "[encoded data removed]",
            "text/plain": [
              "<Figure size 432x288 with 1 Axes>"
            ]
          },
          "metadata": {
            "tags": [],
            "needs_background": "light"
          }
        }
      ]
    },
    {
      "cell_type": "code",
      "metadata": {
        "colab_type": "code",
        "id": "6Vc6PHgxa6Hm",
        "colab": {
          "base_uri": "https://localhost:8080/",
          "height": 54
        },
        "outputId": "e9ccb4f6-5403-447e-a00f-cd1930707d49"
      },
      "source": [
        "#Predict next words with the model trained with a initial seed text.\n",
        "seed_text = \"Leonardo, you are\"\n",
        "next_words = 100\n",
        "  \n",
        "for _ in range(next_words):\n",
        "\ttoken_list = tokenizer.texts_to_sequences([seed_text])[0]\n",
        "\ttoken_list = pad_sequences([token_list], maxlen=max_sequence_len-1, padding='pre')\n",
        "\tpredicted = model.predict_classes(token_list, verbose=0)\n",
        "\toutput_word = \"\"\n",
        "\tfor word, index in tokenizer.word_index.items():\n",
        "\t\tif index == predicted:\n",
        "\t\t\toutput_word = word\n",
        "\t\t\tbreak\n",
        "\tseed_text += \" \" + output_word\n",
        "print(seed_text)"
      ],
      "execution_count": 28,
      "outputs": [
        {
          "output_type": "stream",
          "text": [
            "Leonardo, you are so strongly in my purpose bred of sense despite me bail can bright ' have no burn that of mine eye out of wide eyes all ill still kind no praise happy bright than power again upon a devil exchanged flatter in the ground night will no treasure due of mine heart untrue new 'will' more friend hath me ' keeps you not i sing for thee none none see on thy granting you flatter to decay liberty 'will' ' will no sinful brow laws thy friend ' of no such time of me still live contains so truth '\n"
          ],
          "name": "stdout"
        }
      ]
    }
  ]
}