{
  "nbformat": 4,
  "nbformat_minor": 0,
  "metadata": {
    "accelerator": "GPU",
    "colab": {
      "name": "NLP Course - Week 3 Exercise Question.ipynb",
      "provenance": []
    },
    "kernelspec": {
      "display_name": "Python 3",
      "name": "python3"
    }
  },
  "cells": [
    {
      "cell_type": "markdown",
      "metadata": {
        "id": "1Z68YF4lvrVJ",
        "colab_type": "text"
      },
      "source": [
        "# Exercise 3\n",
        "**Exploring overfitting in NLP**\n",
        "\n",
        "When looking at a number of different types of layer for text classification this week you saw many examples of overfitting -- with one of the major reasons for the overfitting being that your training dataset was quite small, and with a small number of words. Embeddings derived from this may be over generalized also. So for this week’s exercise you’re going to train on a large dataset, as well as using transfer learning of an existing set of embeddings.\n",
        "\n",
        "The dataset is from:  https://www.kaggle.com/kazanova/sentiment140. I’ve cleaned it up a little, in particular to make the file encoding work with Python CSV reader.\n",
        "\n",
        "The embeddings that you will transfer learn from are called the GloVe, also known as Global Vectors for Word Representation, available at: https://nlp.stanford.edu/projects/glove/"
      ]
    },
    {
      "cell_type": "markdown",
      "metadata": {
        "id": "P89YUu1GvutW",
        "colab_type": "text"
      },
      "source": [
        "# Imports"
      ]
    },
    {
      "cell_type": "code",
      "metadata": {
        "colab_type": "code",
        "id": "hmA6EzkQJ5jt",
        "colab": {}
      },
      "source": [
        "import json\n",
        "import tensorflow as tf\n",
        "import csv\n",
        "import random\n",
        "import numpy as np\n",
        "\n",
        "from tensorflow.keras.preprocessing.text import Tokenizer\n",
        "from tensorflow.keras.preprocessing.sequence import pad_sequences\n",
        "from tensorflow.keras.utils import to_categorical\n",
        "from tensorflow.keras import regularizers"
      ],
      "execution_count": 1,
      "outputs": []
    },
    {
      "cell_type": "code",
      "metadata": {
        "id": "_RYJQ_ilvgr0",
        "colab_type": "code",
        "colab": {}
      },
      "source": [
        "\n",
        "embedding_dim = 100\n",
        "max_length = 16\n",
        "trunc_type='post'\n",
        "padding_type='post'\n",
        "oov_tok = \"<OOV>\"\n",
        "training_size=160000\n",
        "test_portion=.1\n",
        "\n",
        "corpus = []"
      ],
      "execution_count": 2,
      "outputs": []
    },
    {
      "cell_type": "code",
      "metadata": {
        "colab_type": "code",
        "id": "bM0l_dORKqE0",
        "colab": {
          "base_uri": "https://localhost:8080/",
          "height": 208
        },
        "outputId": "5c5d82bc-4f77-439d-ff55-9e3e841eb9cd"
      },
      "source": [
        "!wget --no-check-certificate \\\n",
        "    https://storage.googleapis.com/laurencemoroney-blog.appspot.com/training_cleaned.csv \\\n",
        "    -O /tmp/training_cleaned.csv"
      ],
      "execution_count": 3,
      "outputs": [
        {
          "output_type": "stream",
          "text": [
            "--2020-08-28 00:16:35--  https://storage.googleapis.com/laurencemoroney-blog.appspot.com/training_cleaned.csv\n",
            "Resolving storage.googleapis.com (storage.googleapis.com)... 108.177.98.128, 74.125.142.128, 74.125.195.128, ...\n",
            "Connecting to storage.googleapis.com (storage.googleapis.com)|108.177.98.128|:443... connected.\n",
            "HTTP request sent, awaiting response... 200 OK\n",
            "Length: 238942690 (228M) [application/octet-stream]\n",
            "Saving to: ‘/tmp/training_cleaned.csv’\n",
            "\n",
            "/tmp/training_clean 100%[===================>] 227.87M   151MB/s    in 1.5s    \n",
            "\n",
            "2020-08-28 00:16:37 (151 MB/s) - ‘/tmp/training_cleaned.csv’ saved [238942690/238942690]\n",
            "\n"
          ],
          "name": "stdout"
        }
      ]
    },
    {
      "cell_type": "code",
      "metadata": {
        "id": "sIgfFrGI33px",
        "colab_type": "code",
        "colab": {}
      },
      "source": [
        "num_sentences = 0\n",
        "\n",
        "with open(\"/tmp/training_cleaned.csv\") as csvfile:\n",
        "    reader = csv.reader(csvfile, delimiter=',')\n",
        "    for row in reader:\n",
        "        list_item=[]\n",
        "        list_item.append(row[5])\n",
        "        l=row[0]\n",
        "        if l=='0':\n",
        "            list_item.append(0)\n",
        "        else:\n",
        "            list_item.append(1)\n",
        "        num_sentences = num_sentences + 1\n",
        "        corpus.append(list_item)\n"
      ],
      "execution_count": 4,
      "outputs": []
    },
    {
      "cell_type": "code",
      "metadata": {
        "colab_type": "code",
        "id": "3kxblBUjEUX-",
        "colab": {
          "base_uri": "https://localhost:8080/",
          "height": 69
        },
        "outputId": "2d033d4a-141c-4aab-9c42-ca24c6969ae8"
      },
      "source": [
        "print(num_sentences)\n",
        "print(len(corpus))\n",
        "print(corpus[1])"
      ],
      "execution_count": 5,
      "outputs": [
        {
          "output_type": "stream",
          "text": [
            "1600000\n",
            "1600000\n",
            "[\"is upset that he can't update his Facebook by texting it... and might cry as a result  School today also. Blah!\", 0]\n"
          ],
          "name": "stdout"
        }
      ]
    },
    {
      "cell_type": "code",
      "metadata": {
        "colab_type": "code",
        "id": "ohOGz24lsNAD",
        "colab": {}
      },
      "source": [
        "sentences=[]\n",
        "labels=[]\n",
        "random.shuffle(corpus)\n",
        "for x in range(training_size):\n",
        "    sentences.append(corpus[x][0])\n",
        "    labels.append(corpus[x][1])\n",
        "\n",
        "\n",
        "tokenizer = Tokenizer()\n",
        "tokenizer.fit_on_texts(sentences)\n",
        "\n",
        "word_index = tokenizer.word_index\n",
        "vocab_size=len(word_index)\n",
        "\n",
        "sequences = tokenizer.texts_to_sequences(sentences)\n",
        "padded = pad_sequences(sequences, maxlen=max_length, padding=padding_type, truncating=trunc_type)\n",
        "\n",
        "split = int(test_portion * training_size)\n",
        "\n",
        "test_sequences = padded[0:split]\n",
        "training_sequences = padded[split:training_size]\n",
        "test_labels = labels[0:split]\n",
        "training_labels = labels[split:training_size]"
      ],
      "execution_count": 6,
      "outputs": []
    },
    {
      "cell_type": "code",
      "metadata": {
        "colab_type": "code",
        "id": "gIrtRem1En3N",
        "colab": {
          "base_uri": "https://localhost:8080/",
          "height": 34
        },
        "outputId": "4bc843c9-c3d1-45f4-e1ed-82dd086c304f"
      },
      "source": [
        "print(vocab_size)"
      ],
      "execution_count": 7,
      "outputs": [
        {
          "output_type": "stream",
          "text": [
            "138839\n"
          ],
          "name": "stdout"
        }
      ]
    },
    {
      "cell_type": "code",
      "metadata": {
        "colab_type": "code",
        "id": "C1zdgJkusRh0",
        "colab": {
          "base_uri": "https://localhost:8080/",
          "height": 208
        },
        "outputId": "d1342681-f1d7-4a29-c926-a10e5e7f0e16"
      },
      "source": [
        "# Note this is the 100 dimension version of GloVe from Stanford\n",
        "!wget --no-check-certificate \\\n",
        "    https://storage.googleapis.com/laurencemoroney-blog.appspot.com/glove.6B.100d.txt \\\n",
        "    -O /tmp/glove.6B.100d.txt\n",
        "\n",
        "embeddings_index = {}\n",
        "\n",
        "with open('/tmp/glove.6B.100d.txt') as f:\n",
        "    for line in f:\n",
        "        values = line.split();\n",
        "        word = values[0];\n",
        "        coefs = np.asarray(values[1:], dtype='float32');\n",
        "        embeddings_index[word] = coefs;\n",
        "\n",
        "embeddings_matrix = np.zeros((vocab_size+1, embedding_dim));\n",
        "\n",
        "for word, i in word_index.items():\n",
        "    embedding_vector = embeddings_index.get(word);\n",
        "    if embedding_vector is not None:\n",
        "        embeddings_matrix[i] = embedding_vector;"
      ],
      "execution_count": 8,
      "outputs": [
        {
          "output_type": "stream",
          "text": [
            "--2020-08-28 00:16:55--  https://storage.googleapis.com/laurencemoroney-blog.appspot.com/glove.6B.100d.txt\n",
            "Resolving storage.googleapis.com (storage.googleapis.com)... 74.125.20.128, 74.125.197.128, 74.125.142.128, ...\n",
            "Connecting to storage.googleapis.com (storage.googleapis.com)|74.125.20.128|:443... connected.\n",
            "HTTP request sent, awaiting response... 200 OK\n",
            "Length: 347116733 (331M) [text/plain]\n",
            "Saving to: ‘/tmp/glove.6B.100d.txt’\n",
            "\n",
            "/tmp/glove.6B.100d. 100%[===================>] 331.04M   180MB/s    in 1.8s    \n",
            "\n",
            "2020-08-28 00:16:57 (180 MB/s) - ‘/tmp/glove.6B.100d.txt’ saved [347116733/347116733]\n",
            "\n"
          ],
          "name": "stdout"
        }
      ]
    },
    {
      "cell_type": "code",
      "metadata": {
        "colab_type": "code",
        "id": "71NLk_lpFLNt",
        "colab": {
          "base_uri": "https://localhost:8080/",
          "height": 52
        },
        "outputId": "fb7c7c1f-2162-4bab-c3e4-71b1df1bee8d"
      },
      "source": [
        "print(len(embeddings_matrix))\n",
        "print(embeddings_matrix.shape)"
      ],
      "execution_count": 9,
      "outputs": [
        {
          "output_type": "stream",
          "text": [
            "138840\n",
            "(138840, 100)\n"
          ],
          "name": "stdout"
        }
      ]
    },
    {
      "cell_type": "code",
      "metadata": {
        "colab_type": "code",
        "id": "iKKvbuEBOGFz",
        "colab": {
          "base_uri": "https://localhost:8080/",
          "height": 364
        },
        "outputId": "de12b54b-4be1-42df-8561-b1104e03fe81"
      },
      "source": [
        "model = tf.keras.Sequential([\n",
        "    tf.keras.layers.Embedding(vocab_size+1, embedding_dim, input_length=max_length, weights=[embeddings_matrix], trainable=False),\n",
        "    tf.keras.layers.Dropout(0.2),\n",
        "    tf.keras.layers.Conv1D(64, 5, activation='relu'),\n",
        "    tf.keras.layers.MaxPooling1D(pool_size=4),\n",
        "    tf.keras.layers.LSTM(64),\n",
        "    tf.keras.layers.Dense(1, activation='sigmoid')\n",
        "])\n",
        "\n",
        "model.compile(optimizer = 'adam', loss = 'binary_crossentropy', metrics = ['accuracy'])\n",
        "model.summary()"
      ],
      "execution_count": 13,
      "outputs": [
        {
          "output_type": "stream",
          "text": [
            "Model: \"sequential_1\"\n",
            "_________________________________________________________________\n",
            "Layer (type)                 Output Shape              Param #   \n",
            "=================================================================\n",
            "embedding_1 (Embedding)      (None, 16, 100)           13884000  \n",
            "_________________________________________________________________\n",
            "dropout_2 (Dropout)          (None, 16, 100)           0         \n",
            "_________________________________________________________________\n",
            "conv1d_1 (Conv1D)            (None, 12, 64)            32064     \n",
            "_________________________________________________________________\n",
            "max_pooling1d_1 (MaxPooling1 (None, 3, 64)             0         \n",
            "_________________________________________________________________\n",
            "lstm_2 (LSTM)                (None, 64)                33024     \n",
            "_________________________________________________________________\n",
            "dense_2 (Dense)              (None, 1)                 65        \n",
            "=================================================================\n",
            "Total params: 13,949,153\n",
            "Trainable params: 65,153\n",
            "Non-trainable params: 13,884,000\n",
            "_________________________________________________________________\n"
          ],
          "name": "stdout"
        }
      ]
    },
    {
      "cell_type": "code",
      "metadata": {
        "id": "Vr6EwIVa-qYU",
        "colab_type": "code",
        "colab": {
          "base_uri": "https://localhost:8080/",
          "height": 1000
        },
        "outputId": "8bfcb416-fb54-4993-eeee-5e33e844583b"
      },
      "source": [
        "training_padded = np.array(training_sequences)\n",
        "training_labels = np.array(training_labels)\n",
        "testing_padded = np.array(test_sequences)\n",
        "testing_labels = np.array(test_labels)\n",
        "\n",
        "num_epochs = 50\n",
        "history = model.fit(training_padded, training_labels, epochs=num_epochs, validation_data=(testing_padded, testing_labels), verbose=2)\n",
        "\n",
        "print(\"Training Complete\")"
      ],
      "execution_count": 14,
      "outputs": [
        {
          "output_type": "stream",
          "text": [
            "Epoch 1/50\n",
            "4500/4500 - 16s - loss: 0.5689 - accuracy: 0.6986 - val_loss: 0.5214 - val_accuracy: 0.7387\n",
            "Epoch 2/50\n",
            "4500/4500 - 16s - loss: 0.5288 - accuracy: 0.7304 - val_loss: 0.5112 - val_accuracy: 0.7434\n",
            "Epoch 3/50\n",
            "4500/4500 - 15s - loss: 0.5124 - accuracy: 0.7430 - val_loss: 0.5039 - val_accuracy: 0.7532\n",
            "Epoch 4/50\n",
            "4500/4500 - 15s - loss: 0.5002 - accuracy: 0.7516 - val_loss: 0.5011 - val_accuracy: 0.7522\n",
            "Epoch 5/50\n",
            "4500/4500 - 15s - loss: 0.4935 - accuracy: 0.7558 - val_loss: 0.5069 - val_accuracy: 0.7470\n",
            "Epoch 6/50\n",
            "4500/4500 - 16s - loss: 0.4845 - accuracy: 0.7608 - val_loss: 0.5010 - val_accuracy: 0.7527\n",
            "Epoch 7/50\n",
            "4500/4500 - 16s - loss: 0.4795 - accuracy: 0.7648 - val_loss: 0.4984 - val_accuracy: 0.7538\n",
            "Epoch 8/50\n",
            "4500/4500 - 15s - loss: 0.4739 - accuracy: 0.7677 - val_loss: 0.4981 - val_accuracy: 0.7602\n",
            "Epoch 9/50\n",
            "4500/4500 - 15s - loss: 0.4684 - accuracy: 0.7729 - val_loss: 0.4998 - val_accuracy: 0.7566\n",
            "Epoch 10/50\n",
            "4500/4500 - 15s - loss: 0.4659 - accuracy: 0.7741 - val_loss: 0.4982 - val_accuracy: 0.7592\n",
            "Epoch 11/50\n",
            "4500/4500 - 16s - loss: 0.4623 - accuracy: 0.7767 - val_loss: 0.5004 - val_accuracy: 0.7582\n",
            "Epoch 12/50\n",
            "4500/4500 - 15s - loss: 0.4577 - accuracy: 0.7788 - val_loss: 0.5003 - val_accuracy: 0.7586\n",
            "Epoch 13/50\n",
            "4500/4500 - 15s - loss: 0.4567 - accuracy: 0.7791 - val_loss: 0.4988 - val_accuracy: 0.7573\n",
            "Epoch 14/50\n",
            "4500/4500 - 15s - loss: 0.4539 - accuracy: 0.7800 - val_loss: 0.4996 - val_accuracy: 0.7534\n",
            "Epoch 15/50\n",
            "4500/4500 - 15s - loss: 0.4514 - accuracy: 0.7832 - val_loss: 0.5056 - val_accuracy: 0.7535\n",
            "Epoch 16/50\n",
            "4500/4500 - 15s - loss: 0.4492 - accuracy: 0.7838 - val_loss: 0.5026 - val_accuracy: 0.7565\n",
            "Epoch 17/50\n",
            "4500/4500 - 15s - loss: 0.4484 - accuracy: 0.7839 - val_loss: 0.5034 - val_accuracy: 0.7563\n",
            "Epoch 18/50\n",
            "4500/4500 - 15s - loss: 0.4462 - accuracy: 0.7857 - val_loss: 0.5186 - val_accuracy: 0.7535\n",
            "Epoch 19/50\n",
            "4500/4500 - 15s - loss: 0.4450 - accuracy: 0.7856 - val_loss: 0.5049 - val_accuracy: 0.7568\n",
            "Epoch 20/50\n",
            "4500/4500 - 15s - loss: 0.4435 - accuracy: 0.7874 - val_loss: 0.5022 - val_accuracy: 0.7527\n",
            "Epoch 21/50\n",
            "4500/4500 - 15s - loss: 0.4434 - accuracy: 0.7867 - val_loss: 0.5073 - val_accuracy: 0.7565\n",
            "Epoch 22/50\n",
            "4500/4500 - 15s - loss: 0.4420 - accuracy: 0.7880 - val_loss: 0.5108 - val_accuracy: 0.7539\n",
            "Epoch 23/50\n",
            "4500/4500 - 15s - loss: 0.4414 - accuracy: 0.7892 - val_loss: 0.5157 - val_accuracy: 0.7521\n",
            "Epoch 24/50\n",
            "4500/4500 - 15s - loss: 0.4403 - accuracy: 0.7888 - val_loss: 0.5064 - val_accuracy: 0.7555\n",
            "Epoch 25/50\n",
            "4500/4500 - 15s - loss: 0.4390 - accuracy: 0.7895 - val_loss: 0.5073 - val_accuracy: 0.7551\n",
            "Epoch 26/50\n",
            "4500/4500 - 15s - loss: 0.4373 - accuracy: 0.7911 - val_loss: 0.5120 - val_accuracy: 0.7543\n",
            "Epoch 27/50\n",
            "4500/4500 - 15s - loss: 0.4361 - accuracy: 0.7920 - val_loss: 0.5088 - val_accuracy: 0.7537\n",
            "Epoch 28/50\n",
            "4500/4500 - 15s - loss: 0.4360 - accuracy: 0.7920 - val_loss: 0.5131 - val_accuracy: 0.7522\n",
            "Epoch 29/50\n",
            "4500/4500 - 15s - loss: 0.4356 - accuracy: 0.7922 - val_loss: 0.5109 - val_accuracy: 0.7518\n",
            "Epoch 30/50\n",
            "4500/4500 - 15s - loss: 0.4342 - accuracy: 0.7935 - val_loss: 0.5079 - val_accuracy: 0.7534\n",
            "Epoch 31/50\n",
            "4500/4500 - 15s - loss: 0.4341 - accuracy: 0.7915 - val_loss: 0.5094 - val_accuracy: 0.7515\n",
            "Epoch 32/50\n",
            "4500/4500 - 16s - loss: 0.4336 - accuracy: 0.7925 - val_loss: 0.5121 - val_accuracy: 0.7535\n",
            "Epoch 33/50\n",
            "4500/4500 - 15s - loss: 0.4332 - accuracy: 0.7934 - val_loss: 0.5114 - val_accuracy: 0.7531\n",
            "Epoch 34/50\n",
            "4500/4500 - 15s - loss: 0.4323 - accuracy: 0.7945 - val_loss: 0.5134 - val_accuracy: 0.7523\n",
            "Epoch 35/50\n",
            "4500/4500 - 15s - loss: 0.4320 - accuracy: 0.7947 - val_loss: 0.5154 - val_accuracy: 0.7517\n",
            "Epoch 36/50\n",
            "4500/4500 - 15s - loss: 0.4330 - accuracy: 0.7926 - val_loss: 0.5122 - val_accuracy: 0.7512\n",
            "Epoch 37/50\n",
            "4500/4500 - 15s - loss: 0.4310 - accuracy: 0.7954 - val_loss: 0.5128 - val_accuracy: 0.7527\n",
            "Epoch 38/50\n",
            "4500/4500 - 15s - loss: 0.4303 - accuracy: 0.7954 - val_loss: 0.5176 - val_accuracy: 0.7514\n",
            "Epoch 39/50\n",
            "4500/4500 - 15s - loss: 0.4307 - accuracy: 0.7936 - val_loss: 0.5151 - val_accuracy: 0.7489\n",
            "Epoch 40/50\n",
            "4500/4500 - 15s - loss: 0.4290 - accuracy: 0.7969 - val_loss: 0.5208 - val_accuracy: 0.7535\n",
            "Epoch 41/50\n",
            "4500/4500 - 15s - loss: 0.4307 - accuracy: 0.7947 - val_loss: 0.5210 - val_accuracy: 0.7477\n",
            "Epoch 42/50\n",
            "4500/4500 - 15s - loss: 0.4287 - accuracy: 0.7963 - val_loss: 0.5170 - val_accuracy: 0.7533\n",
            "Epoch 43/50\n",
            "4500/4500 - 15s - loss: 0.4293 - accuracy: 0.7953 - val_loss: 0.5142 - val_accuracy: 0.7541\n",
            "Epoch 44/50\n",
            "4500/4500 - 15s - loss: 0.4295 - accuracy: 0.7954 - val_loss: 0.5119 - val_accuracy: 0.7527\n",
            "Epoch 45/50\n",
            "4500/4500 - 15s - loss: 0.4292 - accuracy: 0.7965 - val_loss: 0.5178 - val_accuracy: 0.7513\n",
            "Epoch 46/50\n",
            "4500/4500 - 15s - loss: 0.4285 - accuracy: 0.7961 - val_loss: 0.5210 - val_accuracy: 0.7496\n",
            "Epoch 47/50\n",
            "4500/4500 - 15s - loss: 0.4264 - accuracy: 0.7968 - val_loss: 0.5183 - val_accuracy: 0.7519\n",
            "Epoch 48/50\n",
            "4500/4500 - 15s - loss: 0.4281 - accuracy: 0.7965 - val_loss: 0.5174 - val_accuracy: 0.7538\n",
            "Epoch 49/50\n",
            "4500/4500 - 15s - loss: 0.4262 - accuracy: 0.7968 - val_loss: 0.5180 - val_accuracy: 0.7497\n",
            "Epoch 50/50\n",
            "4500/4500 - 15s - loss: 0.4264 - accuracy: 0.7979 - val_loss: 0.5159 - val_accuracy: 0.7514\n",
            "Training Complete\n"
          ],
          "name": "stdout"
        }
      ]
    },
    {
      "cell_type": "code",
      "metadata": {
        "colab_type": "code",
        "id": "qxju4ItJKO8F",
        "colab": {
          "base_uri": "https://localhost:8080/",
          "height": 608
        },
        "outputId": "0f26d406-92e6-4ba9-b97e-f6e2b89875d9"
      },
      "source": [
        "import matplotlib.image  as mpimg\n",
        "import matplotlib.pyplot as plt\n",
        "\n",
        "acc=history.history['accuracy']\n",
        "val_acc=history.history['val_accuracy']\n",
        "loss=history.history['loss']\n",
        "val_loss=history.history['val_loss']\n",
        "\n",
        "epochs=range(len(acc))\n",
        "plt.plot(epochs, acc, 'r')\n",
        "plt.plot(epochs, val_acc, 'b')\n",
        "plt.title('Training and validation accuracy')\n",
        "plt.xlabel(\"Epochs\")\n",
        "plt.ylabel(\"Accuracy\")\n",
        "plt.legend([\"Accuracy\", \"Validation Accuracy\"])\n",
        "\n",
        "plt.figure()\n",
        "\n",
        "plt.plot(epochs, loss, 'r')\n",
        "plt.plot(epochs, val_loss, 'b')\n",
        "plt.title('Training and validation loss')\n",
        "plt.xlabel(\"Epochs\")\n",
        "plt.ylabel(\"Loss\")\n",
        "plt.legend([\"Loss\", \"Validation Loss\"])\n",
        "\n",
        "plt.figure()"
      ],
      "execution_count": 15,
      "outputs": [
        {
          "output_type": "execute_result",
          "data": {
            "text/plain": [
              "<Figure size 432x288 with 0 Axes>"
            ]
          },
          "metadata": {
            "tags": []
          },
          "execution_count": 15
        },
        {
          "output_type": "display_data",
          "data": {
            "image/png": "[encoded data removed]",
            "text/plain": [
              "<Figure size 432x288 with 1 Axes>"
            ]
          },
          "metadata": {
            "tags": [],
            "needs_background": "light"
          }
        },
        {
          "output_type": "display_data",
          "data": {
            "image/png": "[encoded data removed]",
            "text/plain": [
              "<Figure size 432x288 with 1 Axes>"
            ]
          },
          "metadata": {
            "tags": [],
            "needs_background": "light"
          }
        },
        {
          "output_type": "display_data",
          "data": {
            "text/plain": [
              "<Figure size 432x288 with 0 Axes>"
            ]
          },
          "metadata": {
            "tags": []
          }
        }
      ]
    }
  ]
}