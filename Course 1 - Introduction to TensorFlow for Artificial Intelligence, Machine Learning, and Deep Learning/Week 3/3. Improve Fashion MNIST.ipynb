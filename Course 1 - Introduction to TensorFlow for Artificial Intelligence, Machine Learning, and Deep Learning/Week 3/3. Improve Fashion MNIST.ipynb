{
  "nbformat": 4,
  "nbformat_minor": 0,
  "metadata": {
    "kernelspec": {
      "display_name": "Python 3",
      "language": "python",
      "name": "python3"
    },
    "language_info": {
      "codemirror_mode": {
        "name": "ipython",
        "version": 3
      },
      "file_extension": ".py",
      "mimetype": "text/x-python",
      "name": "python",
      "nbconvert_exporter": "python",
      "pygments_lexer": "ipython3",
      "version": "3.7.6"
    },
    "colab": {
      "name": "3. Improve Fashion MNIST.ipynb",
      "provenance": []
    }
  },
  "cells": [
    {
      "cell_type": "markdown",
      "metadata": {
        "id": "euMLXX6Iwl_r",
        "colab_type": "text"
      },
      "source": [
        "# Exercise 3\n",
        "\n",
        "In the videos you looked at how you would improve Fashion MNIST using Convolutions. For your exercise see if you can improve MNIST to 99.8% accuracy or more using only a single convolutional layer and a single MaxPooling 2D. You should stop training once the accuracy goes above this amount. It should happen in less than 20 epochs, so it's ok to hard code the number of epochs for training, but your training must end once it hits the above metric. If it doesn't, then you'll need to redesign your layers.\n",
        "\n",
        "I've started the code for you -- you need to finish it!\n",
        "\n",
        "When 99.8% accuracy has been hit, you should print out the string \"Reached 99.8% accuracy so cancelling training!\"\n"
      ]
    },
    {
      "cell_type": "code",
      "metadata": {
        "id": "-M8LzKrnwl_x",
        "colab_type": "code",
        "colab": {}
      },
      "source": [
        "import tensorflow as tf"
      ],
      "execution_count": 1,
      "outputs": []
    },
    {
      "cell_type": "code",
      "metadata": {
        "id": "5mFuIE9Vwq38",
        "colab_type": "code",
        "colab": {}
      },
      "source": [
        "def train_mnist_conv():\n",
        "\n",
        "    class myCallback(tf.keras.callbacks.Callback):\n",
        "        def on_epoch_end(self, epoch, logs={}):\n",
        "            if (logs.get('accuracy')>0.998):\n",
        "                print(\"\\nReached 99.8% accuracy so cancelling training!\")\n",
        "                self.model.stop_training = True\n",
        "\n",
        "    callbacks = myCallback()\n",
        "    \n",
        "    mnist = tf.keras.datasets.mnist\n",
        "    (training_images, training_labels), (test_images, test_labels) = mnist.load_data()\n",
        "\n",
        "    training_images = training_images/255\n",
        "    test_images = test_images/255\n",
        "    \n",
        "    training_images = training_images.reshape(60000,28,28,1)\n",
        "    test_images = test_images.reshape(10000,28,28,1)\n",
        "\n",
        "\n",
        "    model = tf.keras.models.Sequential([\n",
        "\n",
        "            tf.keras.layers.Conv2D(64, (3,3), activation='relu', input_shape=(28, 28, 1)),\n",
        "            tf.keras.layers.MaxPooling2D(2, 2),\n",
        "            tf.keras.layers.Flatten(),\n",
        "            tf.keras.layers.Dense(128, activation='relu'),\n",
        "            tf.keras.layers.Dense(10, activation='softmax')\n",
        "    ])\n",
        "\n",
        "    model.compile(optimizer='adam', loss='sparse_categorical_crossentropy', metrics=['accuracy'])\n",
        "\n",
        "    history = model.fit(training_images, training_labels, callbacks = [callbacks], epochs = 15)\n",
        "\n",
        "    return history.epoch, history.history['accuracy'][-1]\n"
      ],
      "execution_count": 13,
      "outputs": []
    },
    {
      "cell_type": "code",
      "metadata": {
        "id": "wdt7wZkNw4dM",
        "colab_type": "code",
        "colab": {
          "base_uri": "https://localhost:8080/",
          "height": 330
        },
        "outputId": "11efe74d-bf90-4b47-8d19-8cc70d502c97"
      },
      "source": [
        "_, _ = train_mnist_conv()"
      ],
      "execution_count": 14,
      "outputs": [
        {
          "output_type": "stream",
          "text": [
            "Epoch 1/15\n",
            "1875/1875 [==============================] - 55s 29ms/step - loss: 0.1362 - accuracy: 0.9591\n",
            "Epoch 2/15\n",
            "1875/1875 [==============================] - 53s 28ms/step - loss: 0.0476 - accuracy: 0.9851\n",
            "Epoch 3/15\n",
            "1875/1875 [==============================] - 57s 31ms/step - loss: 0.0288 - accuracy: 0.9910\n",
            "Epoch 4/15\n",
            "1875/1875 [==============================] - 56s 30ms/step - loss: 0.0187 - accuracy: 0.9940\n",
            "Epoch 5/15\n",
            "1875/1875 [==============================] - 59s 32ms/step - loss: 0.0123 - accuracy: 0.9960\n",
            "Epoch 6/15\n",
            "1875/1875 [==============================] - 57s 30ms/step - loss: 0.0096 - accuracy: 0.9968\n",
            "Epoch 7/15\n",
            "1875/1875 [==============================] - 57s 30ms/step - loss: 0.0063 - accuracy: 0.9979\n",
            "Epoch 8/15\n",
            "1875/1875 [==============================] - ETA: 0s - loss: 0.0060 - accuracy: 0.9980\n",
            "Reached 99.8% accuracy so cancelling training!\n",
            "1875/1875 [==============================] - 56s 30ms/step - loss: 0.0060 - accuracy: 0.9980\n"
          ],
          "name": "stdout"
        }
      ]
    }
  ]
}